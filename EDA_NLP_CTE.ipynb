{
  "nbformat": 4,
  "nbformat_minor": 0,
  "metadata": {
    "colab": {
      "name": "EDA NLP CTE.ipynb",
      "provenance": [],
      "collapsed_sections": [],
      "toc_visible": true,
      "authorship_tag": "ABX9TyP+qLJXaJd9n8yKxyQ+j9gB",
      "include_colab_link": true
    },
    "kernelspec": {
      "name": "python3",
      "display_name": "Python 3"
    }
  },
  "cells": [
    {
      "cell_type": "markdown",
      "metadata": {
        "id": "view-in-github",
        "colab_type": "text"
      },
      "source": [
        "<a href=\"https://colab.research.google.com/github/HarshaVishak/Topic-based-Argument-checking/blob/main/EDA_NLP_CTE.ipynb\" target=\"_parent\"><img src=\"https://colab.research.google.com/assets/colab-badge.svg\" alt=\"Open In Colab\"/></a>"
      ]
    },
    {
      "cell_type": "code",
      "metadata": {
        "id": "vA4Hql3N3TF5"
      },
      "source": [
        "import pandas as pd\r\n",
        "\r\n",
        "url = 'https://github.com/HarshaVishak/Topic-based-Argument-checking/blob/main/train.csv?raw=true'\r\n",
        "df2 = pd.read_csv(url)"
      ],
      "execution_count": 1,
      "outputs": []
    },
    {
      "cell_type": "markdown",
      "metadata": {
        "id": "DNXmAim9jtzo"
      },
      "source": [
        "Using Head to see all the columns present in the data"
      ]
    },
    {
      "cell_type": "code",
      "metadata": {
        "colab": {
          "base_uri": "https://localhost:8080/",
          "height": 380
        },
        "id": "Om69y-5C4hZW",
        "outputId": "17a401a7-8b07-49c6-9b62-d2e42913a7e9"
      },
      "source": [
        "df2.head()"
      ],
      "execution_count": null,
      "outputs": [
        {
          "output_type": "execute_result",
          "data": {
            "text/html": [
              "<div>\n",
              "<style scoped>\n",
              "    .dataframe tbody tr th:only-of-type {\n",
              "        vertical-align: middle;\n",
              "    }\n",
              "\n",
              "    .dataframe tbody tr th {\n",
              "        vertical-align: top;\n",
              "    }\n",
              "\n",
              "    .dataframe thead th {\n",
              "        text-align: right;\n",
              "    }\n",
              "</style>\n",
              "<table border=\"1\" class=\"dataframe\">\n",
              "  <thead>\n",
              "    <tr style=\"text-align: right;\">\n",
              "      <th></th>\n",
              "      <th>topic</th>\n",
              "      <th>the concept of the topic</th>\n",
              "      <th>candidate</th>\n",
              "      <th>candidate masked</th>\n",
              "      <th>label</th>\n",
              "      <th>wikipedia article name</th>\n",
              "      <th>wikipedia url</th>\n",
              "    </tr>\n",
              "  </thead>\n",
              "  <tbody>\n",
              "    <tr>\n",
              "      <th>0</th>\n",
              "      <td>We should limit executive compensation</td>\n",
              "      <td>executive compensation</td>\n",
              "      <td>A say on pay - a non-binding vote of the gener...</td>\n",
              "      <td>A say on pay - a non-binding vote of the gener...</td>\n",
              "      <td>0</td>\n",
              "      <td>Executive pay</td>\n",
              "      <td>https://en.wikipedia.org/wiki/Executive_pay</td>\n",
              "    </tr>\n",
              "    <tr>\n",
              "      <th>1</th>\n",
              "      <td>We should limit executive compensation</td>\n",
              "      <td>executive compensation</td>\n",
              "      <td>A February 2009 report, published by the Insti...</td>\n",
              "      <td>A February 2009 report, published by the Insti...</td>\n",
              "      <td>1</td>\n",
              "      <td>Executive pay</td>\n",
              "      <td>https://en.wikipedia.org/wiki/Executive_pay</td>\n",
              "    </tr>\n",
              "    <tr>\n",
              "      <th>2</th>\n",
              "      <td>We should limit executive compensation</td>\n",
              "      <td>executive compensation</td>\n",
              "      <td>The Financial Crisis has had a relatively smal...</td>\n",
              "      <td>The Financial Crisis has had a relatively smal...</td>\n",
              "      <td>0</td>\n",
              "      <td>Executive pay</td>\n",
              "      <td>https://en.wikipedia.org/wiki/Executive_pay</td>\n",
              "    </tr>\n",
              "    <tr>\n",
              "      <th>3</th>\n",
              "      <td>We should limit executive compensation</td>\n",
              "      <td>executive compensation</td>\n",
              "      <td>1990-1992 Lineberger Cancer Center, SPA person...</td>\n",
              "      <td>1990-1992 Lineberger Cancer Center, SPA person...</td>\n",
              "      <td>0</td>\n",
              "      <td>Edison Liu</td>\n",
              "      <td>https://en.wikipedia.org/wiki/Edison_Liu</td>\n",
              "    </tr>\n",
              "    <tr>\n",
              "      <th>4</th>\n",
              "      <td>We should limit executive compensation</td>\n",
              "      <td>executive compensation</td>\n",
              "      <td>Countering the public uproar over excessive ex...</td>\n",
              "      <td>Countering the public uproar over excessive TO...</td>\n",
              "      <td>0</td>\n",
              "      <td>Jack Welch</td>\n",
              "      <td>https://en.wikipedia.org/wiki/Jack_Welch</td>\n",
              "    </tr>\n",
              "  </tbody>\n",
              "</table>\n",
              "</div>"
            ],
            "text/plain": [
              "                                    topic  ...                                wikipedia url\n",
              "0  We should limit executive compensation  ...  https://en.wikipedia.org/wiki/Executive_pay\n",
              "1  We should limit executive compensation  ...  https://en.wikipedia.org/wiki/Executive_pay\n",
              "2  We should limit executive compensation  ...  https://en.wikipedia.org/wiki/Executive_pay\n",
              "3  We should limit executive compensation  ...     https://en.wikipedia.org/wiki/Edison_Liu\n",
              "4  We should limit executive compensation  ...     https://en.wikipedia.org/wiki/Jack_Welch\n",
              "\n",
              "[5 rows x 7 columns]"
            ]
          },
          "metadata": {
            "tags": []
          },
          "execution_count": 4
        }
      ]
    },
    {
      "cell_type": "markdown",
      "metadata": {
        "id": "Vj1xAkdbgoVN"
      },
      "source": [
        "## EDA\r\n",
        "The aim of the following blocks is to understand more about our data"
      ]
    },
    {
      "cell_type": "markdown",
      "metadata": {
        "id": "DTvi7CtJjk8D"
      },
      "source": [
        "# Topics and claims\r\n",
        "Counting the number of unique topics and average number of claims per topic"
      ]
    },
    {
      "cell_type": "code",
      "metadata": {
        "colab": {
          "base_uri": "https://localhost:8080/"
        },
        "id": "aXVjmal64qcZ",
        "outputId": "2bd769ab-5ce7-4fb1-cc16-c0f0e9b37739"
      },
      "source": [
        "topics = df2['topic'].values.tolist()\r\n",
        "list_set = set(topics) \r\n",
        "    # convert the set to the list \r\n",
        "unique_topics = (list(list_set)) \r\n",
        "count  = 0\r\n",
        "for el in unique_topics:\r\n",
        "  count=count+1\r\n",
        "(no_of_rows,no_of_columns) = df2.shape  \r\n",
        "print(\"The number of topics is-\",count,\" and the average number of claims per topic is -\",no_of_rows/count)\r\n",
        "\r\n"
      ],
      "execution_count": null,
      "outputs": [
        {
          "output_type": "stream",
          "text": [
            "The number of topics is- 83  and the average number of claims per topic is - 48.975903614457835\n"
          ],
          "name": "stdout"
        }
      ]
    },
    {
      "cell_type": "markdown",
      "metadata": {
        "id": "QtFhwHyxlEv-"
      },
      "source": [
        "\r\n",
        "\r\n",
        "0.36 of the candidates are judged to be valid claims, so the dataset is skewed towards negative predictions"
      ]
    },
    {
      "cell_type": "code",
      "metadata": {
        "colab": {
          "base_uri": "https://localhost:8080/"
        },
        "id": "O-XVOKOCP9qB",
        "outputId": "b18a80e8-1ae8-40e2-aee0-ad38c3cdce7e"
      },
      "source": [
        "labels = df2['label'].values.tolist()\r\n",
        "print(\"As a fraction the number of positive claims are\" , sum(labels)/no_of_rows, \"of the total\")"
      ],
      "execution_count": null,
      "outputs": [
        {
          "output_type": "stream",
          "text": [
            "As a fraction the number of positive claims are 0.36875768757687577 of the total\n"
          ],
          "name": "stdout"
        }
      ]
    },
    {
      "cell_type": "markdown",
      "metadata": {
        "id": "6xt6X03WZ2ZD"
      },
      "source": [
        "Now we try and see how many claims and candidates are present for every topic, and plot the distribution to see how consistent it is and if it varies greatly oer topic"
      ]
    },
    {
      "cell_type": "code",
      "metadata": {
        "id": "yqfa3P_hYrLx"
      },
      "source": [
        "claim_count = {}\r\n",
        "candidate_count = {}\r\n",
        "label_list = df2['label']\r\n",
        "for ele in unique_topics:\r\n",
        "  claim_count[ele] = 0\r\n",
        "  candidate_count[ele] = 0\r\n",
        "for ind in df2.index:\r\n",
        "  candidate_count[df2['topic'][ind]] = candidate_count[df2['topic'][ind]]+1\r\n",
        "  if label_list[ind] == 1:\r\n",
        "     claim_count[df2['topic'][ind]] = claim_count[df2['topic'][ind]]+1"
      ],
      "execution_count": null,
      "outputs": []
    },
    {
      "cell_type": "code",
      "metadata": {
        "colab": {
          "base_uri": "https://localhost:8080/",
          "height": 282
        },
        "id": "02rcE5Vo8zZR",
        "outputId": "02267aa0-9977-411b-f7d0-6c86b224a2ba"
      },
      "source": [
        "import matplotlib.pyplot as plt\r\n",
        "\r\n",
        "plt.bar(range(len(candidate_count)), list(candidate_count.values()),color = 'b')\r\n",
        "\r\n",
        "plt.bar(range(len(candidate_count)), list(claim_count.values()),color = 'g')\r\n"
      ],
      "execution_count": null,
      "outputs": [
        {
          "output_type": "execute_result",
          "data": {
            "text/plain": [
              "<BarContainer object of 83 artists>"
            ]
          },
          "metadata": {
            "tags": []
          },
          "execution_count": 6
        },
        {
          "output_type": "display_data",
          "data": {
            "image/png": "[encoded data removed]",
            "text/plain": [
              "<Figure size 432x288 with 1 Axes>"
            ]
          },
          "metadata": {
            "tags": [],
            "needs_background": "light"
          }
        }
      ]
    },
    {
      "cell_type": "code",
      "metadata": {
        "colab": {
          "base_uri": "https://localhost:8080/",
          "height": 282
        },
        "id": "MI_mwCl49hyv",
        "outputId": "f7f6a67f-6987-4e41-aa37-e9577eb7e3e5"
      },
      "source": [
        "sorted_values = sorted(candidate_count.values()) # Sort the values\r\n",
        "sorted_dict = {}\r\n",
        "\r\n",
        "for i in sorted_values:\r\n",
        "    for k in candidate_count.keys():\r\n",
        "        if candidate_count[k] == i:\r\n",
        "            sorted_dict[k] = candidate_count[k]\r\n",
        "            break\r\n",
        "sorted_values2 = sorted(claim_count.values()) # Sort the values\r\n",
        "plt.bar(range(len(sorted_dict)), list(sorted_dict.values()),color = 'b')\r\n"
      ],
      "execution_count": null,
      "outputs": [
        {
          "output_type": "execute_result",
          "data": {
            "text/plain": [
              "<BarContainer object of 45 artists>"
            ]
          },
          "metadata": {
            "tags": []
          },
          "execution_count": 7
        },
        {
          "output_type": "display_data",
          "data": {
            "image/png": "[encoded data removed]",
            "text/plain": [
              "<Figure size 432x288 with 1 Axes>"
            ]
          },
          "metadata": {
            "tags": [],
            "needs_background": "light"
          }
        }
      ]
    },
    {
      "cell_type": "markdown",
      "metadata": {
        "id": "cE7qB132nwFX"
      },
      "source": [
        "The bar graph above shows the huge variation in number of candidate claims per topic. For the purpose of training this might be an issue for the topics that have really few candidate claims. So as a part of the pre processing we may need to drop some of these topics from the training data"
      ]
    },
    {
      "cell_type": "markdown",
      "metadata": {
        "id": "4VcQyHLtoTQY"
      },
      "source": [
        "# Sentiment ananlysis\r\n",
        " For the next part of the EDA we will try and apply basic sentiment analysis on the claims to see if there is any correlation with the sentiment score and the nature of the statement ,ie whether it is a relevant claim or not"
      ]
    },
    {
      "cell_type": "code",
      "metadata": {
        "id": "p95Nc2si7dbo"
      },
      "source": [
        "import nltk"
      ],
      "execution_count": null,
      "outputs": []
    },
    {
      "cell_type": "code",
      "metadata": {
        "colab": {
          "base_uri": "https://localhost:8080/",
          "height": 52
        },
        "id": "upB0oZnR820s",
        "outputId": "19865685-b2b3-4e29-8109-e6a80ad6859a"
      },
      "source": [
        "candidates  = df2['candidate'].values.tolist()\r\n",
        "candidates_lower =[]\r\n",
        "text = candidates[1]\r\n",
        "text = text.lower()\r\n",
        "text\r\n"
      ],
      "execution_count": null,
      "outputs": [
        {
          "output_type": "execute_result",
          "data": {
            "application/vnd.google.colaboratory.intrinsic+json": {
              "type": "string"
            },
            "text/plain": [
              "'a february 2009 report, published by the institute for policy studies notes the impact excessive executive compensation has on taxpayers: u.s. taxpayers subsidize excessive executive compensation - by more than $20 billion per year - via a variety of tax and accounting loopholes.'"
            ]
          },
          "metadata": {
            "tags": []
          },
          "execution_count": 5
        }
      ]
    },
    {
      "cell_type": "code",
      "metadata": {
        "id": "xgSB3jD1_3sw",
        "colab": {
          "base_uri": "https://localhost:8080/"
        },
        "outputId": "46249a1b-6e3b-4770-8f94-d5ace5c49dce"
      },
      "source": [
        "import nltk\r\n",
        "from nltk.corpus import stopwords\r\n",
        "from nltk.classify import SklearnClassifier\r\n",
        "nltk.download('vader_lexicon')\r\n",
        "nltk.download('punkt')\r\n",
        "\r\n",
        "import matplotlib.pyplot as plt\r\n",
        "%matplotlib inline\r\n"
      ],
      "execution_count": null,
      "outputs": [
        {
          "output_type": "stream",
          "text": [
            "[nltk_data] Downloading package vader_lexicon to /root/nltk_data...\n",
            "[nltk_data] Downloading package punkt to /root/nltk_data...\n",
            "[nltk_data]   Unzipping tokenizers/punkt.zip.\n"
          ],
          "name": "stdout"
        }
      ]
    },
    {
      "cell_type": "code",
      "metadata": {
        "colab": {
          "base_uri": "https://localhost:8080/"
        },
        "id": "tdxEzVlUskTJ",
        "outputId": "2d88bdc2-1950-46a3-addd-b4a600bd1803"
      },
      "source": [
        "from nltk.sentiment.vader import SentimentIntensityAnalyzer\r\n",
        "sid = SentimentIntensityAnalyzer()"
      ],
      "execution_count": null,
      "outputs": [
        {
          "output_type": "stream",
          "text": [
            "/usr/local/lib/python3.6/dist-packages/nltk/twitter/__init__.py:20: UserWarning: The twython library has not been installed. Some functionality from the twitter package will not be available.\n",
            "  warnings.warn(\"The twython library has not been installed. \"\n"
          ],
          "name": "stderr"
        }
      ]
    },
    {
      "cell_type": "code",
      "metadata": {
        "colab": {
          "base_uri": "https://localhost:8080/",
          "height": 481
        },
        "id": "ErpQrmQPszD_",
        "outputId": "d55e04ef-be26-4310-932a-6af5f43350d4"
      },
      "source": [
        "candidates  = df2['candidate'].values.tolist()\r\n",
        "scores_col = [0]*len(candidates)\r\n",
        "scores_pos = [0]*len(candidates)\r\n",
        "scores_neg = [0]*len(candidates)\r\n",
        "scores_neu = [0]*len(candidates)\r\n",
        "\r\n",
        "for ind in range(0,len(candidates)):\r\n",
        "  scores_col[ind] = sid.polarity_scores(candidates[ind])\r\n",
        "  scores_pos[ind] = scores_col[ind]['pos']\r\n",
        "  scores_neg[ind] = scores_col[ind]['neg']\r\n",
        "  scores_neu[ind] = scores_col[ind]['neu']\r\n",
        "df2['Positive score'] = scores_pos\r\n",
        "df2['Negative score'] = scores_neg\r\n",
        "df2['Neutral score'] = scores_neu\r\n",
        "\r\n",
        "df2.head()"
      ],
      "execution_count": null,
      "outputs": [
        {
          "output_type": "execute_result",
          "data": {
            "text/html": [
              "<div>\n",
              "<style scoped>\n",
              "    .dataframe tbody tr th:only-of-type {\n",
              "        vertical-align: middle;\n",
              "    }\n",
              "\n",
              "    .dataframe tbody tr th {\n",
              "        vertical-align: top;\n",
              "    }\n",
              "\n",
              "    .dataframe thead th {\n",
              "        text-align: right;\n",
              "    }\n",
              "</style>\n",
              "<table border=\"1\" class=\"dataframe\">\n",
              "  <thead>\n",
              "    <tr style=\"text-align: right;\">\n",
              "      <th></th>\n",
              "      <th>topic</th>\n",
              "      <th>the concept of the topic</th>\n",
              "      <th>candidate</th>\n",
              "      <th>candidate masked</th>\n",
              "      <th>label</th>\n",
              "      <th>wikipedia article name</th>\n",
              "      <th>wikipedia url</th>\n",
              "      <th>scores</th>\n",
              "      <th>Positive score</th>\n",
              "      <th>Negative score</th>\n",
              "      <th>Neutral score</th>\n",
              "    </tr>\n",
              "  </thead>\n",
              "  <tbody>\n",
              "    <tr>\n",
              "      <th>0</th>\n",
              "      <td>We should limit executive compensation</td>\n",
              "      <td>executive compensation</td>\n",
              "      <td>A say on pay - a non-binding vote of the gener...</td>\n",
              "      <td>A say on pay - a non-binding vote of the gener...</td>\n",
              "      <td>0</td>\n",
              "      <td>Executive pay</td>\n",
              "      <td>https://en.wikipedia.org/wiki/Executive_pay</td>\n",
              "      <td>{'neg': 0.123, 'neu': 0.746, 'pos': 0.132, 'co...</td>\n",
              "      <td>0.132</td>\n",
              "      <td>0.123</td>\n",
              "      <td>0.746</td>\n",
              "    </tr>\n",
              "    <tr>\n",
              "      <th>1</th>\n",
              "      <td>We should limit executive compensation</td>\n",
              "      <td>executive compensation</td>\n",
              "      <td>A February 2009 report, published by the Insti...</td>\n",
              "      <td>A February 2009 report, published by the Insti...</td>\n",
              "      <td>1</td>\n",
              "      <td>Executive pay</td>\n",
              "      <td>https://en.wikipedia.org/wiki/Executive_pay</td>\n",
              "      <td>{'neg': 0.0, 'neu': 1.0, 'pos': 0.0, 'compound...</td>\n",
              "      <td>0.000</td>\n",
              "      <td>0.000</td>\n",
              "      <td>1.000</td>\n",
              "    </tr>\n",
              "    <tr>\n",
              "      <th>2</th>\n",
              "      <td>We should limit executive compensation</td>\n",
              "      <td>executive compensation</td>\n",
              "      <td>The Financial Crisis has had a relatively smal...</td>\n",
              "      <td>The Financial Crisis has had a relatively smal...</td>\n",
              "      <td>0</td>\n",
              "      <td>Executive pay</td>\n",
              "      <td>https://en.wikipedia.org/wiki/Executive_pay</td>\n",
              "      <td>{'neg': 0.355, 'neu': 0.645, 'pos': 0.0, 'comp...</td>\n",
              "      <td>0.000</td>\n",
              "      <td>0.355</td>\n",
              "      <td>0.645</td>\n",
              "    </tr>\n",
              "    <tr>\n",
              "      <th>3</th>\n",
              "      <td>We should limit executive compensation</td>\n",
              "      <td>executive compensation</td>\n",
              "      <td>1990-1992 Lineberger Cancer Center, SPA person...</td>\n",
              "      <td>1990-1992 Lineberger Cancer Center, SPA person...</td>\n",
              "      <td>0</td>\n",
              "      <td>Edison Liu</td>\n",
              "      <td>https://en.wikipedia.org/wiki/Edison_Liu</td>\n",
              "      <td>{'neg': 0.386, 'neu': 0.614, 'pos': 0.0, 'comp...</td>\n",
              "      <td>0.000</td>\n",
              "      <td>0.386</td>\n",
              "      <td>0.614</td>\n",
              "    </tr>\n",
              "    <tr>\n",
              "      <th>4</th>\n",
              "      <td>We should limit executive compensation</td>\n",
              "      <td>executive compensation</td>\n",
              "      <td>Countering the public uproar over excessive ex...</td>\n",
              "      <td>Countering the public uproar over excessive TO...</td>\n",
              "      <td>0</td>\n",
              "      <td>Jack Welch</td>\n",
              "      <td>https://en.wikipedia.org/wiki/Jack_Welch</td>\n",
              "      <td>{'neg': 0.031, 'neu': 0.897, 'pos': 0.072, 'co...</td>\n",
              "      <td>0.072</td>\n",
              "      <td>0.031</td>\n",
              "      <td>0.897</td>\n",
              "    </tr>\n",
              "  </tbody>\n",
              "</table>\n",
              "</div>"
            ],
            "text/plain": [
              "                                    topic  ... Neutral score\n",
              "0  We should limit executive compensation  ...         0.746\n",
              "1  We should limit executive compensation  ...         1.000\n",
              "2  We should limit executive compensation  ...         0.645\n",
              "3  We should limit executive compensation  ...         0.614\n",
              "4  We should limit executive compensation  ...         0.897\n",
              "\n",
              "[5 rows x 11 columns]"
            ]
          },
          "metadata": {
            "tags": []
          },
          "execution_count": 19
        }
      ]
    },
    {
      "cell_type": "markdown",
      "metadata": {
        "id": "M8DOzm36jEKP"
      },
      "source": [
        "Now that we have the scores added to the dataframe we can find which one has the highest correlation between the three."
      ]
    },
    {
      "cell_type": "code",
      "metadata": {
        "colab": {
          "base_uri": "https://localhost:8080/",
          "height": 166
        },
        "id": "N4EdkmDajQxC",
        "outputId": "de6f2102-85bf-4a45-eda4-86e1013eb3df"
      },
      "source": [
        "df2.corr(method = 'pearson')"
      ],
      "execution_count": null,
      "outputs": [
        {
          "output_type": "execute_result",
          "data": {
            "text/html": [
              "<div>\n",
              "<style scoped>\n",
              "    .dataframe tbody tr th:only-of-type {\n",
              "        vertical-align: middle;\n",
              "    }\n",
              "\n",
              "    .dataframe tbody tr th {\n",
              "        vertical-align: top;\n",
              "    }\n",
              "\n",
              "    .dataframe thead th {\n",
              "        text-align: right;\n",
              "    }\n",
              "</style>\n",
              "<table border=\"1\" class=\"dataframe\">\n",
              "  <thead>\n",
              "    <tr style=\"text-align: right;\">\n",
              "      <th></th>\n",
              "      <th>label</th>\n",
              "      <th>Positive score</th>\n",
              "      <th>Negative score</th>\n",
              "      <th>Neutral score</th>\n",
              "    </tr>\n",
              "  </thead>\n",
              "  <tbody>\n",
              "    <tr>\n",
              "      <th>label</th>\n",
              "      <td>1.000000</td>\n",
              "      <td>0.027063</td>\n",
              "      <td>0.074750</td>\n",
              "      <td>-0.083462</td>\n",
              "    </tr>\n",
              "    <tr>\n",
              "      <th>Positive score</th>\n",
              "      <td>0.027063</td>\n",
              "      <td>1.000000</td>\n",
              "      <td>-0.278625</td>\n",
              "      <td>-0.634205</td>\n",
              "    </tr>\n",
              "    <tr>\n",
              "      <th>Negative score</th>\n",
              "      <td>0.074750</td>\n",
              "      <td>-0.278625</td>\n",
              "      <td>1.000000</td>\n",
              "      <td>-0.565838</td>\n",
              "    </tr>\n",
              "    <tr>\n",
              "      <th>Neutral score</th>\n",
              "      <td>-0.083462</td>\n",
              "      <td>-0.634205</td>\n",
              "      <td>-0.565838</td>\n",
              "      <td>1.000000</td>\n",
              "    </tr>\n",
              "  </tbody>\n",
              "</table>\n",
              "</div>"
            ],
            "text/plain": [
              "                   label  Positive score  Negative score  Neutral score\n",
              "label           1.000000        0.027063        0.074750      -0.083462\n",
              "Positive score  0.027063        1.000000       -0.278625      -0.634205\n",
              "Negative score  0.074750       -0.278625        1.000000      -0.565838\n",
              "Neutral score  -0.083462       -0.634205       -0.565838       1.000000"
            ]
          },
          "metadata": {
            "tags": []
          },
          "execution_count": 20
        }
      ]
    },
    {
      "cell_type": "markdown",
      "metadata": {
        "id": "9FgAlLDuWO4t"
      },
      "source": [
        "No column has a strong correlation with the label column, which implies that there is more nuance and depth in how a candidate is judged to be a claim, rather than just it being very positive or very negative."
      ]
    },
    {
      "cell_type": "code",
      "metadata": {
        "id": "EeqBNqy9XIUA"
      },
      "source": [
        ""
      ],
      "execution_count": null,
      "outputs": []
    }
  ]
}