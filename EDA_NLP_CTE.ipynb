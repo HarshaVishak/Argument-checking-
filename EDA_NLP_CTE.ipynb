{
  "nbformat": 4,
  "nbformat_minor": 0,
  "metadata": {
    "colab": {
      "name": "EDA NLP CTE.ipynb",
      "provenance": [],
      "collapsed_sections": [],
      "toc_visible": true,
      "authorship_tag": "ABX9TyMa4rhBVNLFdG20Ljr3yim3",
      "include_colab_link": true
    },
    "kernelspec": {
      "name": "python3",
      "display_name": "Python 3"
    }
  },
  "cells": [
    {
      "cell_type": "markdown",
      "metadata": {
        "id": "view-in-github",
        "colab_type": "text"
      },
      "source": [
        "<a href=\"https://colab.research.google.com/github/HarshaVishak/Topic-based-Argument-checking/blob/main/EDA_NLP_CTE.ipynb\" target=\"_parent\"><img src=\"https://colab.research.google.com/assets/colab-badge.svg\" alt=\"Open In Colab\"/></a>"
      ]
    },
    {
      "cell_type": "code",
      "metadata": {
        "id": "vA4Hql3N3TF5"
      },
      "source": [
        "import pandas as pd\r\n",
        "\r\n",
        "url = 'https://github.com/HarshaVishak/Topic-based-Argument-checking/blob/main/train.csv?raw=true'\r\n",
        "df2 = pd.read_csv(url)"
      ],
      "execution_count": 93,
      "outputs": []
    },
    {
      "cell_type": "markdown",
      "metadata": {
        "id": "DNXmAim9jtzo"
      },
      "source": [
        "Using Head to see all the columns present in the data"
      ]
    },
    {
      "cell_type": "code",
      "metadata": {
        "colab": {
          "base_uri": "https://localhost:8080/",
          "height": 380
        },
        "id": "Om69y-5C4hZW",
        "outputId": "6cf5fe90-b349-4fbe-923f-72b1b5668992"
      },
      "source": [
        "df2.head()"
      ],
      "execution_count": 94,
      "outputs": [
        {
          "output_type": "execute_result",
          "data": {
            "text/html": [
              "<div>\n",
              "<style scoped>\n",
              "    .dataframe tbody tr th:only-of-type {\n",
              "        vertical-align: middle;\n",
              "    }\n",
              "\n",
              "    .dataframe tbody tr th {\n",
              "        vertical-align: top;\n",
              "    }\n",
              "\n",
              "    .dataframe thead th {\n",
              "        text-align: right;\n",
              "    }\n",
              "</style>\n",
              "<table border=\"1\" class=\"dataframe\">\n",
              "  <thead>\n",
              "    <tr style=\"text-align: right;\">\n",
              "      <th></th>\n",
              "      <th>topic</th>\n",
              "      <th>the concept of the topic</th>\n",
              "      <th>candidate</th>\n",
              "      <th>candidate masked</th>\n",
              "      <th>label</th>\n",
              "      <th>wikipedia article name</th>\n",
              "      <th>wikipedia url</th>\n",
              "    </tr>\n",
              "  </thead>\n",
              "  <tbody>\n",
              "    <tr>\n",
              "      <th>0</th>\n",
              "      <td>We should limit executive compensation</td>\n",
              "      <td>executive compensation</td>\n",
              "      <td>A say on pay - a non-binding vote of the gener...</td>\n",
              "      <td>A say on pay - a non-binding vote of the gener...</td>\n",
              "      <td>0</td>\n",
              "      <td>Executive pay</td>\n",
              "      <td>https://en.wikipedia.org/wiki/Executive_pay</td>\n",
              "    </tr>\n",
              "    <tr>\n",
              "      <th>1</th>\n",
              "      <td>We should limit executive compensation</td>\n",
              "      <td>executive compensation</td>\n",
              "      <td>A February 2009 report, published by the Insti...</td>\n",
              "      <td>A February 2009 report, published by the Insti...</td>\n",
              "      <td>1</td>\n",
              "      <td>Executive pay</td>\n",
              "      <td>https://en.wikipedia.org/wiki/Executive_pay</td>\n",
              "    </tr>\n",
              "    <tr>\n",
              "      <th>2</th>\n",
              "      <td>We should limit executive compensation</td>\n",
              "      <td>executive compensation</td>\n",
              "      <td>The Financial Crisis has had a relatively smal...</td>\n",
              "      <td>The Financial Crisis has had a relatively smal...</td>\n",
              "      <td>0</td>\n",
              "      <td>Executive pay</td>\n",
              "      <td>https://en.wikipedia.org/wiki/Executive_pay</td>\n",
              "    </tr>\n",
              "    <tr>\n",
              "      <th>3</th>\n",
              "      <td>We should limit executive compensation</td>\n",
              "      <td>executive compensation</td>\n",
              "      <td>1990-1992 Lineberger Cancer Center, SPA person...</td>\n",
              "      <td>1990-1992 Lineberger Cancer Center, SPA person...</td>\n",
              "      <td>0</td>\n",
              "      <td>Edison Liu</td>\n",
              "      <td>https://en.wikipedia.org/wiki/Edison_Liu</td>\n",
              "    </tr>\n",
              "    <tr>\n",
              "      <th>4</th>\n",
              "      <td>We should limit executive compensation</td>\n",
              "      <td>executive compensation</td>\n",
              "      <td>Countering the public uproar over excessive ex...</td>\n",
              "      <td>Countering the public uproar over excessive TO...</td>\n",
              "      <td>0</td>\n",
              "      <td>Jack Welch</td>\n",
              "      <td>https://en.wikipedia.org/wiki/Jack_Welch</td>\n",
              "    </tr>\n",
              "  </tbody>\n",
              "</table>\n",
              "</div>"
            ],
            "text/plain": [
              "                                    topic  ...                                wikipedia url\n",
              "0  We should limit executive compensation  ...  https://en.wikipedia.org/wiki/Executive_pay\n",
              "1  We should limit executive compensation  ...  https://en.wikipedia.org/wiki/Executive_pay\n",
              "2  We should limit executive compensation  ...  https://en.wikipedia.org/wiki/Executive_pay\n",
              "3  We should limit executive compensation  ...     https://en.wikipedia.org/wiki/Edison_Liu\n",
              "4  We should limit executive compensation  ...     https://en.wikipedia.org/wiki/Jack_Welch\n",
              "\n",
              "[5 rows x 7 columns]"
            ]
          },
          "metadata": {
            "tags": []
          },
          "execution_count": 94
        }
      ]
    },
    {
      "cell_type": "markdown",
      "metadata": {
        "id": "Vj1xAkdbgoVN"
      },
      "source": [
        "## EDA\r\n",
        "The aim of the following blocks is to understand more about our data"
      ]
    },
    {
      "cell_type": "markdown",
      "metadata": {
        "id": "DTvi7CtJjk8D"
      },
      "source": [
        "# Topics and claims\r\n",
        "Counting the number of unique topics and average number of claims per topic"
      ]
    },
    {
      "cell_type": "code",
      "metadata": {
        "colab": {
          "base_uri": "https://localhost:8080/"
        },
        "id": "aXVjmal64qcZ",
        "outputId": "f14a36d6-0593-445d-96b0-5019d300a3f1"
      },
      "source": [
        "topics = df2['topic'].values.tolist()\r\n",
        "list_set = set(topics) \r\n",
        "    # convert the set to the list \r\n",
        "unique_topics = (list(list_set)) \r\n",
        "count  = 0\r\n",
        "for el in unique_topics:\r\n",
        "  count=count+1\r\n",
        "(no_of_rows,no_of_columns) = df2.shape  \r\n",
        "print(\"The number of topics is-\",count,\" and the average number of claims per topic is -\",no_of_rows/count)\r\n",
        "\r\n"
      ],
      "execution_count": 95,
      "outputs": [
        {
          "output_type": "stream",
          "text": [
            "The number of topics is- 83  and the average number of claims per topic is - 48.975903614457835\n"
          ],
          "name": "stdout"
        }
      ]
    },
    {
      "cell_type": "markdown",
      "metadata": {
        "id": "QtFhwHyxlEv-"
      },
      "source": [
        "\r\n",
        "\r\n",
        "0.36 of the candidates are judged to be valid claims, so the dataset is skewed towards negative predictions"
      ]
    },
    {
      "cell_type": "code",
      "metadata": {
        "colab": {
          "base_uri": "https://localhost:8080/"
        },
        "id": "O-XVOKOCP9qB",
        "outputId": "c5863ebb-32a4-4d64-e4ef-0c0d798ff27c"
      },
      "source": [
        "labels = df2['label'].values.tolist()\r\n",
        "print(\"As a fraction the number of positive claims are\" , sum(labels)/no_of_rows, \"of the total\")"
      ],
      "execution_count": 96,
      "outputs": [
        {
          "output_type": "stream",
          "text": [
            "As a fraction the number of positive claims are 0.36875768757687577 of the total\n"
          ],
          "name": "stdout"
        }
      ]
    },
    {
      "cell_type": "markdown",
      "metadata": {
        "id": "6xt6X03WZ2ZD"
      },
      "source": [
        "Now we try and see how many claims and candidates are present for every topic, and plot the distribution to see how consistent it is and if it varies greatly oer topic"
      ]
    },
    {
      "cell_type": "code",
      "metadata": {
        "id": "yqfa3P_hYrLx"
      },
      "source": [
        "claim_count = {}\r\n",
        "candidate_count = {}\r\n",
        "label_list = df2['label']\r\n",
        "for ele in unique_topics:\r\n",
        "  claim_count[ele] = 0\r\n",
        "  candidate_count[ele] = 0\r\n",
        "for ind in df2.index:\r\n",
        "  candidate_count[df2['topic'][ind]] = candidate_count[df2['topic'][ind]]+1\r\n",
        "  if label_list[ind] == 1:\r\n",
        "     claim_count[df2['topic'][ind]] = claim_count[df2['topic'][ind]]+1"
      ],
      "execution_count": 97,
      "outputs": []
    },
    {
      "cell_type": "code",
      "metadata": {
        "colab": {
          "base_uri": "https://localhost:8080/",
          "height": 282
        },
        "id": "02rcE5Vo8zZR",
        "outputId": "97b9e028-fbc5-49fb-c4b1-a184f3c13d64"
      },
      "source": [
        "import matplotlib.pyplot as plt\r\n",
        "\r\n",
        "plt.bar(range(len(candidate_count)), list(candidate_count.values()),color = 'b')\r\n",
        "\r\n",
        "plt.bar(range(len(candidate_count)), list(claim_count.values()),color = 'g')\r\n"
      ],
      "execution_count": 98,
      "outputs": [
        {
          "output_type": "execute_result",
          "data": {
            "text/plain": [
              "<BarContainer object of 83 artists>"
            ]
          },
          "metadata": {
            "tags": []
          },
          "execution_count": 98
        },
        {
          "output_type": "display_data",
          "data": {
            "image/png": "[encoded data removed]",
            "text/plain": [
              "<Figure size 432x288 with 1 Axes>"
            ]
          },
          "metadata": {
            "tags": [],
            "needs_background": "light"
          }
        }
      ]
    },
    {
      "cell_type": "code",
      "metadata": {
        "colab": {
          "base_uri": "https://localhost:8080/",
          "height": 282
        },
        "id": "MI_mwCl49hyv",
        "outputId": "9da67e9f-4bec-4fc8-f5e2-9dbf01130406"
      },
      "source": [
        "sorted_values = sorted(candidate_count.values()) # Sort the values\r\n",
        "sorted_dict = {}\r\n",
        "\r\n",
        "for i in sorted_values:\r\n",
        "    for k in candidate_count.keys():\r\n",
        "        if candidate_count[k] == i:\r\n",
        "            sorted_dict[k] = candidate_count[k]\r\n",
        "            break\r\n",
        "sorted_values2 = sorted(claim_count.values()) # Sort the values\r\n",
        "plt.bar(range(len(sorted_dict)), list(sorted_dict.values()),color = 'b')\r\n"
      ],
      "execution_count": 99,
      "outputs": [
        {
          "output_type": "execute_result",
          "data": {
            "text/plain": [
              "<BarContainer object of 45 artists>"
            ]
          },
          "metadata": {
            "tags": []
          },
          "execution_count": 99
        },
        {
          "output_type": "display_data",
          "data": {
            "image/png": "[encoded data removed]",
            "text/plain": [
              "<Figure size 432x288 with 1 Axes>"
            ]
          },
          "metadata": {
            "tags": [],
            "needs_background": "light"
          }
        }
      ]
    },
    {
      "cell_type": "markdown",
      "metadata": {
        "id": "cE7qB132nwFX"
      },
      "source": [
        "The bar graph above shows the huge variation in number of candidate claims per topic. For the purpose of training this might be an issue for the topics that have really few candidate claims. So as a part of the pre processing we may need to drop some of these topics from the training data"
      ]
    },
    {
      "cell_type": "markdown",
      "metadata": {
        "id": "4VcQyHLtoTQY"
      },
      "source": [
        "# Sentiment ananlysis\r\n",
        " For the next part of the EDA we will try and apply basic sentiment analysis on the claims to see if there is any correlation with the sentiment score and the nature of the statement ,ie whether it is a relevant claim or not"
      ]
    },
    {
      "cell_type": "code",
      "metadata": {
        "id": "p95Nc2si7dbo"
      },
      "source": [
        "import nltk"
      ],
      "execution_count": 100,
      "outputs": []
    },
    {
      "cell_type": "code",
      "metadata": {
        "colab": {
          "base_uri": "https://localhost:8080/",
          "height": 52
        },
        "id": "upB0oZnR820s",
        "outputId": "4d264cd9-fdc0-49e0-8c8c-2e05b327317a"
      },
      "source": [
        "candidates  = df2['candidate'].values.tolist()\r\n",
        "candidates_lower =[]\r\n",
        "text = candidates[1]\r\n",
        "text = text.lower()\r\n",
        "text\r\n"
      ],
      "execution_count": 101,
      "outputs": [
        {
          "output_type": "execute_result",
          "data": {
            "application/vnd.google.colaboratory.intrinsic+json": {
              "type": "string"
            },
            "text/plain": [
              "'a february 2009 report, published by the institute for policy studies notes the impact excessive executive compensation has on taxpayers: u.s. taxpayers subsidize excessive executive compensation - by more than $20 billion per year - via a variety of tax and accounting loopholes.'"
            ]
          },
          "metadata": {
            "tags": []
          },
          "execution_count": 101
        }
      ]
    },
    {
      "cell_type": "code",
      "metadata": {
        "id": "xgSB3jD1_3sw",
        "colab": {
          "base_uri": "https://localhost:8080/"
        },
        "outputId": "35d08002-91cc-4deb-b653-d98db625ad72"
      },
      "source": [
        "import nltk\r\n",
        "from nltk.corpus import stopwords\r\n",
        "from nltk.classify import SklearnClassifier\r\n",
        "nltk.download('vader_lexicon')\r\n",
        "nltk.download('punkt')\r\n",
        "\r\n",
        "import matplotlib.pyplot as plt\r\n",
        "%matplotlib inline\r\n"
      ],
      "execution_count": 102,
      "outputs": [
        {
          "output_type": "stream",
          "text": [
            "[nltk_data] Downloading package vader_lexicon to /root/nltk_data...\n",
            "[nltk_data]   Package vader_lexicon is already up-to-date!\n",
            "[nltk_data] Downloading package punkt to /root/nltk_data...\n",
            "[nltk_data]   Package punkt is already up-to-date!\n"
          ],
          "name": "stdout"
        }
      ]
    },
    {
      "cell_type": "code",
      "metadata": {
        "id": "tdxEzVlUskTJ"
      },
      "source": [
        "from nltk.sentiment.vader import SentimentIntensityAnalyzer\r\n",
        "sid = SentimentIntensityAnalyzer()"
      ],
      "execution_count": 103,
      "outputs": []
    },
    {
      "cell_type": "code",
      "metadata": {
        "colab": {
          "base_uri": "https://localhost:8080/",
          "height": 464
        },
        "id": "ErpQrmQPszD_",
        "outputId": "24b06e6a-fa1a-4f6c-99a9-2d3cf8d7c06d"
      },
      "source": [
        "candidates  = df2['candidate'].values.tolist()\r\n",
        "scores_col = [0]*len(candidates)\r\n",
        "scores_pos = [0]*len(candidates)\r\n",
        "scores_neg = [0]*len(candidates)\r\n",
        "scores_neu = [0]*len(candidates)\r\n",
        "\r\n",
        "for ind in range(0,len(candidates)):\r\n",
        "  scores_col[ind] = sid.polarity_scores(candidates[ind])\r\n",
        "  scores_pos[ind] = scores_col[ind]['pos']\r\n",
        "  scores_neg[ind] = scores_col[ind]['neg']\r\n",
        "  scores_neu[ind] = scores_col[ind]['neu']\r\n",
        "df2['Positive score'] = scores_pos\r\n",
        "df2['Negative score'] = scores_neg\r\n",
        "df2['Neutral score'] = scores_neu\r\n",
        "\r\n",
        "df2.head()"
      ],
      "execution_count": 104,
      "outputs": [
        {
          "output_type": "execute_result",
          "data": {
            "text/html": [
              "<div>\n",
              "<style scoped>\n",
              "    .dataframe tbody tr th:only-of-type {\n",
              "        vertical-align: middle;\n",
              "    }\n",
              "\n",
              "    .dataframe tbody tr th {\n",
              "        vertical-align: top;\n",
              "    }\n",
              "\n",
              "    .dataframe thead th {\n",
              "        text-align: right;\n",
              "    }\n",
              "</style>\n",
              "<table border=\"1\" class=\"dataframe\">\n",
              "  <thead>\n",
              "    <tr style=\"text-align: right;\">\n",
              "      <th></th>\n",
              "      <th>topic</th>\n",
              "      <th>the concept of the topic</th>\n",
              "      <th>candidate</th>\n",
              "      <th>candidate masked</th>\n",
              "      <th>label</th>\n",
              "      <th>wikipedia article name</th>\n",
              "      <th>wikipedia url</th>\n",
              "      <th>Positive score</th>\n",
              "      <th>Negative score</th>\n",
              "      <th>Neutral score</th>\n",
              "    </tr>\n",
              "  </thead>\n",
              "  <tbody>\n",
              "    <tr>\n",
              "      <th>0</th>\n",
              "      <td>We should limit executive compensation</td>\n",
              "      <td>executive compensation</td>\n",
              "      <td>A say on pay - a non-binding vote of the gener...</td>\n",
              "      <td>A say on pay - a non-binding vote of the gener...</td>\n",
              "      <td>0</td>\n",
              "      <td>Executive pay</td>\n",
              "      <td>https://en.wikipedia.org/wiki/Executive_pay</td>\n",
              "      <td>0.132</td>\n",
              "      <td>0.123</td>\n",
              "      <td>0.746</td>\n",
              "    </tr>\n",
              "    <tr>\n",
              "      <th>1</th>\n",
              "      <td>We should limit executive compensation</td>\n",
              "      <td>executive compensation</td>\n",
              "      <td>A February 2009 report, published by the Insti...</td>\n",
              "      <td>A February 2009 report, published by the Insti...</td>\n",
              "      <td>1</td>\n",
              "      <td>Executive pay</td>\n",
              "      <td>https://en.wikipedia.org/wiki/Executive_pay</td>\n",
              "      <td>0.000</td>\n",
              "      <td>0.000</td>\n",
              "      <td>1.000</td>\n",
              "    </tr>\n",
              "    <tr>\n",
              "      <th>2</th>\n",
              "      <td>We should limit executive compensation</td>\n",
              "      <td>executive compensation</td>\n",
              "      <td>The Financial Crisis has had a relatively smal...</td>\n",
              "      <td>The Financial Crisis has had a relatively smal...</td>\n",
              "      <td>0</td>\n",
              "      <td>Executive pay</td>\n",
              "      <td>https://en.wikipedia.org/wiki/Executive_pay</td>\n",
              "      <td>0.000</td>\n",
              "      <td>0.355</td>\n",
              "      <td>0.645</td>\n",
              "    </tr>\n",
              "    <tr>\n",
              "      <th>3</th>\n",
              "      <td>We should limit executive compensation</td>\n",
              "      <td>executive compensation</td>\n",
              "      <td>1990-1992 Lineberger Cancer Center, SPA person...</td>\n",
              "      <td>1990-1992 Lineberger Cancer Center, SPA person...</td>\n",
              "      <td>0</td>\n",
              "      <td>Edison Liu</td>\n",
              "      <td>https://en.wikipedia.org/wiki/Edison_Liu</td>\n",
              "      <td>0.000</td>\n",
              "      <td>0.386</td>\n",
              "      <td>0.614</td>\n",
              "    </tr>\n",
              "    <tr>\n",
              "      <th>4</th>\n",
              "      <td>We should limit executive compensation</td>\n",
              "      <td>executive compensation</td>\n",
              "      <td>Countering the public uproar over excessive ex...</td>\n",
              "      <td>Countering the public uproar over excessive TO...</td>\n",
              "      <td>0</td>\n",
              "      <td>Jack Welch</td>\n",
              "      <td>https://en.wikipedia.org/wiki/Jack_Welch</td>\n",
              "      <td>0.072</td>\n",
              "      <td>0.031</td>\n",
              "      <td>0.897</td>\n",
              "    </tr>\n",
              "  </tbody>\n",
              "</table>\n",
              "</div>"
            ],
            "text/plain": [
              "                                    topic  ... Neutral score\n",
              "0  We should limit executive compensation  ...         0.746\n",
              "1  We should limit executive compensation  ...         1.000\n",
              "2  We should limit executive compensation  ...         0.645\n",
              "3  We should limit executive compensation  ...         0.614\n",
              "4  We should limit executive compensation  ...         0.897\n",
              "\n",
              "[5 rows x 10 columns]"
            ]
          },
          "metadata": {
            "tags": []
          },
          "execution_count": 104
        }
      ]
    },
    {
      "cell_type": "markdown",
      "metadata": {
        "id": "M8DOzm36jEKP"
      },
      "source": [
        "Now that we have the scores added to the dataframe we can find which one has the highest correlation between the three."
      ]
    },
    {
      "cell_type": "code",
      "metadata": {
        "colab": {
          "base_uri": "https://localhost:8080/",
          "height": 166
        },
        "id": "N4EdkmDajQxC",
        "outputId": "5b3b4c3a-e507-40c6-89ae-7685ce4c7aba"
      },
      "source": [
        "df2.corr(method = 'pearson')"
      ],
      "execution_count": 105,
      "outputs": [
        {
          "output_type": "execute_result",
          "data": {
            "text/html": [
              "<div>\n",
              "<style scoped>\n",
              "    .dataframe tbody tr th:only-of-type {\n",
              "        vertical-align: middle;\n",
              "    }\n",
              "\n",
              "    .dataframe tbody tr th {\n",
              "        vertical-align: top;\n",
              "    }\n",
              "\n",
              "    .dataframe thead th {\n",
              "        text-align: right;\n",
              "    }\n",
              "</style>\n",
              "<table border=\"1\" class=\"dataframe\">\n",
              "  <thead>\n",
              "    <tr style=\"text-align: right;\">\n",
              "      <th></th>\n",
              "      <th>label</th>\n",
              "      <th>Positive score</th>\n",
              "      <th>Negative score</th>\n",
              "      <th>Neutral score</th>\n",
              "    </tr>\n",
              "  </thead>\n",
              "  <tbody>\n",
              "    <tr>\n",
              "      <th>label</th>\n",
              "      <td>1.000000</td>\n",
              "      <td>0.027063</td>\n",
              "      <td>0.074750</td>\n",
              "      <td>-0.083462</td>\n",
              "    </tr>\n",
              "    <tr>\n",
              "      <th>Positive score</th>\n",
              "      <td>0.027063</td>\n",
              "      <td>1.000000</td>\n",
              "      <td>-0.278625</td>\n",
              "      <td>-0.634205</td>\n",
              "    </tr>\n",
              "    <tr>\n",
              "      <th>Negative score</th>\n",
              "      <td>0.074750</td>\n",
              "      <td>-0.278625</td>\n",
              "      <td>1.000000</td>\n",
              "      <td>-0.565838</td>\n",
              "    </tr>\n",
              "    <tr>\n",
              "      <th>Neutral score</th>\n",
              "      <td>-0.083462</td>\n",
              "      <td>-0.634205</td>\n",
              "      <td>-0.565838</td>\n",
              "      <td>1.000000</td>\n",
              "    </tr>\n",
              "  </tbody>\n",
              "</table>\n",
              "</div>"
            ],
            "text/plain": [
              "                   label  Positive score  Negative score  Neutral score\n",
              "label           1.000000        0.027063        0.074750      -0.083462\n",
              "Positive score  0.027063        1.000000       -0.278625      -0.634205\n",
              "Negative score  0.074750       -0.278625        1.000000      -0.565838\n",
              "Neutral score  -0.083462       -0.634205       -0.565838       1.000000"
            ]
          },
          "metadata": {
            "tags": []
          },
          "execution_count": 105
        }
      ]
    },
    {
      "cell_type": "markdown",
      "metadata": {
        "id": "9FgAlLDuWO4t"
      },
      "source": [
        "No column has a strong correlation with the label column, which implies that there is more nuance and depth in how a candidate is judged to be a claim, rather than just it being very positive or very negative."
      ]
    },
    {
      "cell_type": "markdown",
      "metadata": {
        "id": "Pl8hn6BYDetP"
      },
      "source": [
        "# Parse tree subject\r\n",
        "We try and fid the subject word of each candidate sentence"
      ]
    },
    {
      "cell_type": "markdown",
      "metadata": {
        "id": "cuSOI0GdEBFy"
      },
      "source": [
        "For this we install the spacy library into colab\r\n"
      ]
    },
    {
      "cell_type": "code",
      "metadata": {
        "colab": {
          "base_uri": "https://localhost:8080/"
        },
        "id": "x0WiOmb2Dopl",
        "outputId": "89b3d049-9d02-4005-8ae4-4973ce6f95ba"
      },
      "source": [
        "!python -m spacy download en_core_web_md"
      ],
      "execution_count": 106,
      "outputs": [
        {
          "output_type": "stream",
          "text": [
            "Requirement already satisfied: en_core_web_md==2.2.5 from https://github.com/explosion/spacy-models/releases/download/en_core_web_md-2.2.5/en_core_web_md-2.2.5.tar.gz#egg=en_core_web_md==2.2.5 in /usr/local/lib/python3.6/dist-packages (2.2.5)\n",
            "Requirement already satisfied: spacy>=2.2.2 in /usr/local/lib/python3.6/dist-packages (from en_core_web_md==2.2.5) (2.2.4)\n",
            "Requirement already satisfied: plac<1.2.0,>=0.9.6 in /usr/local/lib/python3.6/dist-packages (from spacy>=2.2.2->en_core_web_md==2.2.5) (1.1.3)\n",
            "Requirement already satisfied: blis<0.5.0,>=0.4.0 in /usr/local/lib/python3.6/dist-packages (from spacy>=2.2.2->en_core_web_md==2.2.5) (0.4.1)\n",
            "Requirement already satisfied: catalogue<1.1.0,>=0.0.7 in /usr/local/lib/python3.6/dist-packages (from spacy>=2.2.2->en_core_web_md==2.2.5) (1.0.0)\n",
            "Requirement already satisfied: preshed<3.1.0,>=3.0.2 in /usr/local/lib/python3.6/dist-packages (from spacy>=2.2.2->en_core_web_md==2.2.5) (3.0.5)\n",
            "Requirement already satisfied: cymem<2.1.0,>=2.0.2 in /usr/local/lib/python3.6/dist-packages (from spacy>=2.2.2->en_core_web_md==2.2.5) (2.0.5)\n",
            "Requirement already satisfied: numpy>=1.15.0 in /usr/local/lib/python3.6/dist-packages (from spacy>=2.2.2->en_core_web_md==2.2.5) (1.19.5)\n",
            "Requirement already satisfied: tqdm<5.0.0,>=4.38.0 in /usr/local/lib/python3.6/dist-packages (from spacy>=2.2.2->en_core_web_md==2.2.5) (4.41.1)\n",
            "Requirement already satisfied: srsly<1.1.0,>=1.0.2 in /usr/local/lib/python3.6/dist-packages (from spacy>=2.2.2->en_core_web_md==2.2.5) (1.0.5)\n",
            "Requirement already satisfied: setuptools in /usr/local/lib/python3.6/dist-packages (from spacy>=2.2.2->en_core_web_md==2.2.5) (51.3.3)\n",
            "Requirement already satisfied: thinc==7.4.0 in /usr/local/lib/python3.6/dist-packages (from spacy>=2.2.2->en_core_web_md==2.2.5) (7.4.0)\n",
            "Requirement already satisfied: wasabi<1.1.0,>=0.4.0 in /usr/local/lib/python3.6/dist-packages (from spacy>=2.2.2->en_core_web_md==2.2.5) (0.8.0)\n",
            "Requirement already satisfied: requests<3.0.0,>=2.13.0 in /usr/local/lib/python3.6/dist-packages (from spacy>=2.2.2->en_core_web_md==2.2.5) (2.23.0)\n",
            "Requirement already satisfied: murmurhash<1.1.0,>=0.28.0 in /usr/local/lib/python3.6/dist-packages (from spacy>=2.2.2->en_core_web_md==2.2.5) (1.0.5)\n",
            "Requirement already satisfied: importlib-metadata>=0.20; python_version < \"3.8\" in /usr/local/lib/python3.6/dist-packages (from catalogue<1.1.0,>=0.0.7->spacy>=2.2.2->en_core_web_md==2.2.5) (3.3.0)\n",
            "Requirement already satisfied: urllib3!=1.25.0,!=1.25.1,<1.26,>=1.21.1 in /usr/local/lib/python3.6/dist-packages (from requests<3.0.0,>=2.13.0->spacy>=2.2.2->en_core_web_md==2.2.5) (1.24.3)\n",
            "Requirement already satisfied: certifi>=2017.4.17 in /usr/local/lib/python3.6/dist-packages (from requests<3.0.0,>=2.13.0->spacy>=2.2.2->en_core_web_md==2.2.5) (2020.12.5)\n",
            "Requirement already satisfied: idna<3,>=2.5 in /usr/local/lib/python3.6/dist-packages (from requests<3.0.0,>=2.13.0->spacy>=2.2.2->en_core_web_md==2.2.5) (2.10)\n",
            "Requirement already satisfied: chardet<4,>=3.0.2 in /usr/local/lib/python3.6/dist-packages (from requests<3.0.0,>=2.13.0->spacy>=2.2.2->en_core_web_md==2.2.5) (3.0.4)\n",
            "Requirement already satisfied: typing-extensions>=3.6.4; python_version < \"3.8\" in /usr/local/lib/python3.6/dist-packages (from importlib-metadata>=0.20; python_version < \"3.8\"->catalogue<1.1.0,>=0.0.7->spacy>=2.2.2->en_core_web_md==2.2.5) (3.7.4.3)\n",
            "Requirement already satisfied: zipp>=0.5 in /usr/local/lib/python3.6/dist-packages (from importlib-metadata>=0.20; python_version < \"3.8\"->catalogue<1.1.0,>=0.0.7->spacy>=2.2.2->en_core_web_md==2.2.5) (3.4.0)\n",
            "\u001b[38;5;2m✔ Download and installation successful\u001b[0m\n",
            "You can now load the model via spacy.load('en_core_web_md')\n"
          ],
          "name": "stdout"
        }
      ]
    },
    {
      "cell_type": "code",
      "metadata": {
        "id": "a-06ybukEMag"
      },
      "source": [
        "nlp = spacy.load(\"en_core_web_sm\")"
      ],
      "execution_count": 107,
      "outputs": []
    },
    {
      "cell_type": "code",
      "metadata": {
        "id": "KAeml6NyEsQM"
      },
      "source": [
        "subtreesubjects = []\r\n",
        "for text in candidates :\r\n",
        "  doc = nlp(text)\r\n",
        "  subjectsperrow = []\r\n",
        "  for token in doc :\r\n",
        "    if(token.dep_ == \"nsubj\"):\r\n",
        "      subjectsperrow.append(token.text)\r\n",
        "  subtreesubjects.append(subjectsperrow)"
      ],
      "execution_count": 108,
      "outputs": []
    },
    {
      "cell_type": "markdown",
      "metadata": {
        "id": "kP6wa8zr39qz"
      },
      "source": [
        "The above code finds the subject words in each candidate sentence, we do this to get a broad idea if the candidate subjects are broadly similar to the topic"
      ]
    },
    {
      "cell_type": "code",
      "metadata": {
        "id": "XpCmrfy0i-4A"
      },
      "source": [
        "import en_core_web_lg\r\n",
        "nlp = en_core_web_lg.load()"
      ],
      "execution_count": 109,
      "outputs": []
    },
    {
      "cell_type": "code",
      "metadata": {
        "id": "0RfoIISWg_x-",
        "colab": {
          "base_uri": "https://localhost:8080/",
          "height": 669
        },
        "outputId": "3a54bc8e-236f-48d8-af24-355e52fe80ab"
      },
      "source": [
        "df2['Candidate Subjects'] = subtreesubjects\r\n",
        "df2.head()"
      ],
      "execution_count": 110,
      "outputs": [
        {
          "output_type": "execute_result",
          "data": {
            "text/html": [
              "<div>\n",
              "<style scoped>\n",
              "    .dataframe tbody tr th:only-of-type {\n",
              "        vertical-align: middle;\n",
              "    }\n",
              "\n",
              "    .dataframe tbody tr th {\n",
              "        vertical-align: top;\n",
              "    }\n",
              "\n",
              "    .dataframe thead th {\n",
              "        text-align: right;\n",
              "    }\n",
              "</style>\n",
              "<table border=\"1\" class=\"dataframe\">\n",
              "  <thead>\n",
              "    <tr style=\"text-align: right;\">\n",
              "      <th></th>\n",
              "      <th>topic</th>\n",
              "      <th>the concept of the topic</th>\n",
              "      <th>candidate</th>\n",
              "      <th>candidate masked</th>\n",
              "      <th>label</th>\n",
              "      <th>wikipedia article name</th>\n",
              "      <th>wikipedia url</th>\n",
              "      <th>Positive score</th>\n",
              "      <th>Negative score</th>\n",
              "      <th>Neutral score</th>\n",
              "      <th>Candidate Subjects</th>\n",
              "    </tr>\n",
              "  </thead>\n",
              "  <tbody>\n",
              "    <tr>\n",
              "      <th>0</th>\n",
              "      <td>We should limit executive compensation</td>\n",
              "      <td>executive compensation</td>\n",
              "      <td>A say on pay - a non-binding vote of the gener...</td>\n",
              "      <td>A say on pay - a non-binding vote of the gener...</td>\n",
              "      <td>0</td>\n",
              "      <td>Executive pay</td>\n",
              "      <td>https://en.wikipedia.org/wiki/Executive_pay</td>\n",
              "      <td>0.132</td>\n",
              "      <td>0.123</td>\n",
              "      <td>0.746</td>\n",
              "      <td>[]</td>\n",
              "    </tr>\n",
              "    <tr>\n",
              "      <th>1</th>\n",
              "      <td>We should limit executive compensation</td>\n",
              "      <td>executive compensation</td>\n",
              "      <td>A February 2009 report, published by the Insti...</td>\n",
              "      <td>A February 2009 report, published by the Insti...</td>\n",
              "      <td>1</td>\n",
              "      <td>Executive pay</td>\n",
              "      <td>https://en.wikipedia.org/wiki/Executive_pay</td>\n",
              "      <td>0.000</td>\n",
              "      <td>0.000</td>\n",
              "      <td>1.000</td>\n",
              "      <td>[report, compensation, taxpayers]</td>\n",
              "    </tr>\n",
              "    <tr>\n",
              "      <th>2</th>\n",
              "      <td>We should limit executive compensation</td>\n",
              "      <td>executive compensation</td>\n",
              "      <td>The Financial Crisis has had a relatively smal...</td>\n",
              "      <td>The Financial Crisis has had a relatively smal...</td>\n",
              "      <td>0</td>\n",
              "      <td>Executive pay</td>\n",
              "      <td>https://en.wikipedia.org/wiki/Executive_pay</td>\n",
              "      <td>0.000</td>\n",
              "      <td>0.355</td>\n",
              "      <td>0.645</td>\n",
              "      <td>[Crisis]</td>\n",
              "    </tr>\n",
              "    <tr>\n",
              "      <th>3</th>\n",
              "      <td>We should limit executive compensation</td>\n",
              "      <td>executive compensation</td>\n",
              "      <td>1990-1992 Lineberger Cancer Center, SPA person...</td>\n",
              "      <td>1990-1992 Lineberger Cancer Center, SPA person...</td>\n",
              "      <td>0</td>\n",
              "      <td>Edison Liu</td>\n",
              "      <td>https://en.wikipedia.org/wiki/Edison_Liu</td>\n",
              "      <td>0.000</td>\n",
              "      <td>0.386</td>\n",
              "      <td>0.614</td>\n",
              "      <td>[]</td>\n",
              "    </tr>\n",
              "    <tr>\n",
              "      <th>4</th>\n",
              "      <td>We should limit executive compensation</td>\n",
              "      <td>executive compensation</td>\n",
              "      <td>Countering the public uproar over excessive ex...</td>\n",
              "      <td>Countering the public uproar over excessive TO...</td>\n",
              "      <td>0</td>\n",
              "      <td>Jack Welch</td>\n",
              "      <td>https://en.wikipedia.org/wiki/Jack_Welch</td>\n",
              "      <td>0.072</td>\n",
              "      <td>0.031</td>\n",
              "      <td>0.897</td>\n",
              "      <td>[Welch, compensation]</td>\n",
              "    </tr>\n",
              "  </tbody>\n",
              "</table>\n",
              "</div>"
            ],
            "text/plain": [
              "                                    topic  ...                 Candidate Subjects\n",
              "0  We should limit executive compensation  ...                                 []\n",
              "1  We should limit executive compensation  ...  [report, compensation, taxpayers]\n",
              "2  We should limit executive compensation  ...                           [Crisis]\n",
              "3  We should limit executive compensation  ...                                 []\n",
              "4  We should limit executive compensation  ...              [Welch, compensation]\n",
              "\n",
              "[5 rows x 11 columns]"
            ]
          },
          "metadata": {
            "tags": []
          },
          "execution_count": 110
        }
      ]
    },
    {
      "cell_type": "code",
      "metadata": {
        "colab": {
          "base_uri": "https://localhost:8080/"
        },
        "id": "dAO3nJrCi8xG",
        "outputId": "230f7070-b876-48d5-d755-c977d715947f"
      },
      "source": [
        "similarity_scores = []\r\n",
        "count_blanks = 0\r\n",
        "for index in range(0,len(topics)):\r\n",
        "  doc4 = nlp(topics[index])\r\n",
        "  text = \"\"\r\n",
        "  for word in subtreesubjects[index]:\r\n",
        "    text = text+\" \"+word\r\n",
        "    \r\n",
        "  if(text ==\"\"):\r\n",
        "    similarity_scores.append(0)\r\n",
        "    count_blanks = count_blanks+1\r\n",
        "  if(text!=\"\"):\r\n",
        "    doc5 = nlp(text)\r\n",
        "    similarity_scores.append(doc4.similarity(doc5))\r\n",
        "  "
      ],
      "execution_count": 111,
      "outputs": [
        {
          "output_type": "stream",
          "text": [
            "/usr/lib/python3.6/runpy.py:193: UserWarning: [W008] Evaluating Doc.similarity based on empty vectors.\n",
            "  \"__main__\", mod_spec)\n",
            "/usr/lib/python3.6/runpy.py:193: UserWarning: [W008] Evaluating Doc.similarity based on empty vectors.\n",
            "  \"__main__\", mod_spec)\n",
            "/usr/lib/python3.6/runpy.py:193: UserWarning: [W008] Evaluating Doc.similarity based on empty vectors.\n",
            "  \"__main__\", mod_spec)\n",
            "/usr/lib/python3.6/runpy.py:193: UserWarning: [W008] Evaluating Doc.similarity based on empty vectors.\n",
            "  \"__main__\", mod_spec)\n",
            "/usr/lib/python3.6/runpy.py:193: UserWarning: [W008] Evaluating Doc.similarity based on empty vectors.\n",
            "  \"__main__\", mod_spec)\n",
            "/usr/lib/python3.6/runpy.py:193: UserWarning: [W008] Evaluating Doc.similarity based on empty vectors.\n",
            "  \"__main__\", mod_spec)\n",
            "/usr/lib/python3.6/runpy.py:193: UserWarning: [W008] Evaluating Doc.similarity based on empty vectors.\n",
            "  \"__main__\", mod_spec)\n",
            "/usr/lib/python3.6/runpy.py:193: UserWarning: [W008] Evaluating Doc.similarity based on empty vectors.\n",
            "  \"__main__\", mod_spec)\n",
            "/usr/lib/python3.6/runpy.py:193: UserWarning: [W008] Evaluating Doc.similarity based on empty vectors.\n",
            "  \"__main__\", mod_spec)\n",
            "/usr/lib/python3.6/runpy.py:193: UserWarning: [W008] Evaluating Doc.similarity based on empty vectors.\n",
            "  \"__main__\", mod_spec)\n",
            "/usr/lib/python3.6/runpy.py:193: UserWarning: [W008] Evaluating Doc.similarity based on empty vectors.\n",
            "  \"__main__\", mod_spec)\n",
            "/usr/lib/python3.6/runpy.py:193: UserWarning: [W008] Evaluating Doc.similarity based on empty vectors.\n",
            "  \"__main__\", mod_spec)\n",
            "/usr/lib/python3.6/runpy.py:193: UserWarning: [W008] Evaluating Doc.similarity based on empty vectors.\n",
            "  \"__main__\", mod_spec)\n",
            "/usr/lib/python3.6/runpy.py:193: UserWarning: [W008] Evaluating Doc.similarity based on empty vectors.\n",
            "  \"__main__\", mod_spec)\n",
            "/usr/lib/python3.6/runpy.py:193: UserWarning: [W008] Evaluating Doc.similarity based on empty vectors.\n",
            "  \"__main__\", mod_spec)\n",
            "/usr/lib/python3.6/runpy.py:193: UserWarning: [W008] Evaluating Doc.similarity based on empty vectors.\n",
            "  \"__main__\", mod_spec)\n",
            "/usr/lib/python3.6/runpy.py:193: UserWarning: [W008] Evaluating Doc.similarity based on empty vectors.\n",
            "  \"__main__\", mod_spec)\n",
            "/usr/lib/python3.6/runpy.py:193: UserWarning: [W008] Evaluating Doc.similarity based on empty vectors.\n",
            "  \"__main__\", mod_spec)\n",
            "/usr/lib/python3.6/runpy.py:193: UserWarning: [W008] Evaluating Doc.similarity based on empty vectors.\n",
            "  \"__main__\", mod_spec)\n",
            "/usr/lib/python3.6/runpy.py:193: UserWarning: [W008] Evaluating Doc.similarity based on empty vectors.\n",
            "  \"__main__\", mod_spec)\n",
            "/usr/lib/python3.6/runpy.py:193: UserWarning: [W008] Evaluating Doc.similarity based on empty vectors.\n",
            "  \"__main__\", mod_spec)\n",
            "/usr/lib/python3.6/runpy.py:193: UserWarning: [W008] Evaluating Doc.similarity based on empty vectors.\n",
            "  \"__main__\", mod_spec)\n",
            "/usr/lib/python3.6/runpy.py:193: UserWarning: [W008] Evaluating Doc.similarity based on empty vectors.\n",
            "  \"__main__\", mod_spec)\n",
            "/usr/lib/python3.6/runpy.py:193: UserWarning: [W008] Evaluating Doc.similarity based on empty vectors.\n",
            "  \"__main__\", mod_spec)\n",
            "/usr/lib/python3.6/runpy.py:193: UserWarning: [W008] Evaluating Doc.similarity based on empty vectors.\n",
            "  \"__main__\", mod_spec)\n",
            "/usr/lib/python3.6/runpy.py:193: UserWarning: [W008] Evaluating Doc.similarity based on empty vectors.\n",
            "  \"__main__\", mod_spec)\n",
            "/usr/lib/python3.6/runpy.py:193: UserWarning: [W008] Evaluating Doc.similarity based on empty vectors.\n",
            "  \"__main__\", mod_spec)\n",
            "/usr/lib/python3.6/runpy.py:193: UserWarning: [W008] Evaluating Doc.similarity based on empty vectors.\n",
            "  \"__main__\", mod_spec)\n",
            "/usr/lib/python3.6/runpy.py:193: UserWarning: [W008] Evaluating Doc.similarity based on empty vectors.\n",
            "  \"__main__\", mod_spec)\n",
            "/usr/lib/python3.6/runpy.py:193: UserWarning: [W008] Evaluating Doc.similarity based on empty vectors.\n",
            "  \"__main__\", mod_spec)\n",
            "/usr/lib/python3.6/runpy.py:193: UserWarning: [W008] Evaluating Doc.similarity based on empty vectors.\n",
            "  \"__main__\", mod_spec)\n",
            "/usr/lib/python3.6/runpy.py:193: UserWarning: [W008] Evaluating Doc.similarity based on empty vectors.\n",
            "  \"__main__\", mod_spec)\n",
            "/usr/lib/python3.6/runpy.py:193: UserWarning: [W008] Evaluating Doc.similarity based on empty vectors.\n",
            "  \"__main__\", mod_spec)\n",
            "/usr/lib/python3.6/runpy.py:193: UserWarning: [W008] Evaluating Doc.similarity based on empty vectors.\n",
            "  \"__main__\", mod_spec)\n",
            "/usr/lib/python3.6/runpy.py:193: UserWarning: [W008] Evaluating Doc.similarity based on empty vectors.\n",
            "  \"__main__\", mod_spec)\n",
            "/usr/lib/python3.6/runpy.py:193: UserWarning: [W008] Evaluating Doc.similarity based on empty vectors.\n",
            "  \"__main__\", mod_spec)\n",
            "/usr/lib/python3.6/runpy.py:193: UserWarning: [W008] Evaluating Doc.similarity based on empty vectors.\n",
            "  \"__main__\", mod_spec)\n",
            "/usr/lib/python3.6/runpy.py:193: UserWarning: [W008] Evaluating Doc.similarity based on empty vectors.\n",
            "  \"__main__\", mod_spec)\n",
            "/usr/lib/python3.6/runpy.py:193: UserWarning: [W008] Evaluating Doc.similarity based on empty vectors.\n",
            "  \"__main__\", mod_spec)\n",
            "/usr/lib/python3.6/runpy.py:193: UserWarning: [W008] Evaluating Doc.similarity based on empty vectors.\n",
            "  \"__main__\", mod_spec)\n",
            "/usr/lib/python3.6/runpy.py:193: UserWarning: [W008] Evaluating Doc.similarity based on empty vectors.\n",
            "  \"__main__\", mod_spec)\n",
            "/usr/lib/python3.6/runpy.py:193: UserWarning: [W008] Evaluating Doc.similarity based on empty vectors.\n",
            "  \"__main__\", mod_spec)\n",
            "/usr/lib/python3.6/runpy.py:193: UserWarning: [W008] Evaluating Doc.similarity based on empty vectors.\n",
            "  \"__main__\", mod_spec)\n",
            "/usr/lib/python3.6/runpy.py:193: UserWarning: [W008] Evaluating Doc.similarity based on empty vectors.\n",
            "  \"__main__\", mod_spec)\n",
            "/usr/lib/python3.6/runpy.py:193: UserWarning: [W008] Evaluating Doc.similarity based on empty vectors.\n",
            "  \"__main__\", mod_spec)\n",
            "/usr/lib/python3.6/runpy.py:193: UserWarning: [W008] Evaluating Doc.similarity based on empty vectors.\n",
            "  \"__main__\", mod_spec)\n",
            "/usr/lib/python3.6/runpy.py:193: UserWarning: [W008] Evaluating Doc.similarity based on empty vectors.\n",
            "  \"__main__\", mod_spec)\n",
            "/usr/lib/python3.6/runpy.py:193: UserWarning: [W008] Evaluating Doc.similarity based on empty vectors.\n",
            "  \"__main__\", mod_spec)\n",
            "/usr/lib/python3.6/runpy.py:193: UserWarning: [W008] Evaluating Doc.similarity based on empty vectors.\n",
            "  \"__main__\", mod_spec)\n",
            "/usr/lib/python3.6/runpy.py:193: UserWarning: [W008] Evaluating Doc.similarity based on empty vectors.\n",
            "  \"__main__\", mod_spec)\n",
            "/usr/lib/python3.6/runpy.py:193: UserWarning: [W008] Evaluating Doc.similarity based on empty vectors.\n",
            "  \"__main__\", mod_spec)\n",
            "/usr/lib/python3.6/runpy.py:193: UserWarning: [W008] Evaluating Doc.similarity based on empty vectors.\n",
            "  \"__main__\", mod_spec)\n",
            "/usr/lib/python3.6/runpy.py:193: UserWarning: [W008] Evaluating Doc.similarity based on empty vectors.\n",
            "  \"__main__\", mod_spec)\n",
            "/usr/lib/python3.6/runpy.py:193: UserWarning: [W008] Evaluating Doc.similarity based on empty vectors.\n",
            "  \"__main__\", mod_spec)\n",
            "/usr/lib/python3.6/runpy.py:193: UserWarning: [W008] Evaluating Doc.similarity based on empty vectors.\n",
            "  \"__main__\", mod_spec)\n",
            "/usr/lib/python3.6/runpy.py:193: UserWarning: [W008] Evaluating Doc.similarity based on empty vectors.\n",
            "  \"__main__\", mod_spec)\n",
            "/usr/lib/python3.6/runpy.py:193: UserWarning: [W008] Evaluating Doc.similarity based on empty vectors.\n",
            "  \"__main__\", mod_spec)\n",
            "/usr/lib/python3.6/runpy.py:193: UserWarning: [W008] Evaluating Doc.similarity based on empty vectors.\n",
            "  \"__main__\", mod_spec)\n",
            "/usr/lib/python3.6/runpy.py:193: UserWarning: [W008] Evaluating Doc.similarity based on empty vectors.\n",
            "  \"__main__\", mod_spec)\n",
            "/usr/lib/python3.6/runpy.py:193: UserWarning: [W008] Evaluating Doc.similarity based on empty vectors.\n",
            "  \"__main__\", mod_spec)\n",
            "/usr/lib/python3.6/runpy.py:193: UserWarning: [W008] Evaluating Doc.similarity based on empty vectors.\n",
            "  \"__main__\", mod_spec)\n",
            "/usr/lib/python3.6/runpy.py:193: UserWarning: [W008] Evaluating Doc.similarity based on empty vectors.\n",
            "  \"__main__\", mod_spec)\n",
            "/usr/lib/python3.6/runpy.py:193: UserWarning: [W008] Evaluating Doc.similarity based on empty vectors.\n",
            "  \"__main__\", mod_spec)\n",
            "/usr/lib/python3.6/runpy.py:193: UserWarning: [W008] Evaluating Doc.similarity based on empty vectors.\n",
            "  \"__main__\", mod_spec)\n",
            "/usr/lib/python3.6/runpy.py:193: UserWarning: [W008] Evaluating Doc.similarity based on empty vectors.\n",
            "  \"__main__\", mod_spec)\n",
            "/usr/lib/python3.6/runpy.py:193: UserWarning: [W008] Evaluating Doc.similarity based on empty vectors.\n",
            "  \"__main__\", mod_spec)\n",
            "/usr/lib/python3.6/runpy.py:193: UserWarning: [W008] Evaluating Doc.similarity based on empty vectors.\n",
            "  \"__main__\", mod_spec)\n",
            "/usr/lib/python3.6/runpy.py:193: UserWarning: [W008] Evaluating Doc.similarity based on empty vectors.\n",
            "  \"__main__\", mod_spec)\n",
            "/usr/lib/python3.6/runpy.py:193: UserWarning: [W008] Evaluating Doc.similarity based on empty vectors.\n",
            "  \"__main__\", mod_spec)\n",
            "/usr/lib/python3.6/runpy.py:193: UserWarning: [W008] Evaluating Doc.similarity based on empty vectors.\n",
            "  \"__main__\", mod_spec)\n",
            "/usr/lib/python3.6/runpy.py:193: UserWarning: [W008] Evaluating Doc.similarity based on empty vectors.\n",
            "  \"__main__\", mod_spec)\n",
            "/usr/lib/python3.6/runpy.py:193: UserWarning: [W008] Evaluating Doc.similarity based on empty vectors.\n",
            "  \"__main__\", mod_spec)\n",
            "/usr/lib/python3.6/runpy.py:193: UserWarning: [W008] Evaluating Doc.similarity based on empty vectors.\n",
            "  \"__main__\", mod_spec)\n",
            "/usr/lib/python3.6/runpy.py:193: UserWarning: [W008] Evaluating Doc.similarity based on empty vectors.\n",
            "  \"__main__\", mod_spec)\n",
            "/usr/lib/python3.6/runpy.py:193: UserWarning: [W008] Evaluating Doc.similarity based on empty vectors.\n",
            "  \"__main__\", mod_spec)\n",
            "/usr/lib/python3.6/runpy.py:193: UserWarning: [W008] Evaluating Doc.similarity based on empty vectors.\n",
            "  \"__main__\", mod_spec)\n",
            "/usr/lib/python3.6/runpy.py:193: UserWarning: [W008] Evaluating Doc.similarity based on empty vectors.\n",
            "  \"__main__\", mod_spec)\n",
            "/usr/lib/python3.6/runpy.py:193: UserWarning: [W008] Evaluating Doc.similarity based on empty vectors.\n",
            "  \"__main__\", mod_spec)\n",
            "/usr/lib/python3.6/runpy.py:193: UserWarning: [W008] Evaluating Doc.similarity based on empty vectors.\n",
            "  \"__main__\", mod_spec)\n",
            "/usr/lib/python3.6/runpy.py:193: UserWarning: [W008] Evaluating Doc.similarity based on empty vectors.\n",
            "  \"__main__\", mod_spec)\n",
            "/usr/lib/python3.6/runpy.py:193: UserWarning: [W008] Evaluating Doc.similarity based on empty vectors.\n",
            "  \"__main__\", mod_spec)\n",
            "/usr/lib/python3.6/runpy.py:193: UserWarning: [W008] Evaluating Doc.similarity based on empty vectors.\n",
            "  \"__main__\", mod_spec)\n",
            "/usr/lib/python3.6/runpy.py:193: UserWarning: [W008] Evaluating Doc.similarity based on empty vectors.\n",
            "  \"__main__\", mod_spec)\n",
            "/usr/lib/python3.6/runpy.py:193: UserWarning: [W008] Evaluating Doc.similarity based on empty vectors.\n",
            "  \"__main__\", mod_spec)\n",
            "/usr/lib/python3.6/runpy.py:193: UserWarning: [W008] Evaluating Doc.similarity based on empty vectors.\n",
            "  \"__main__\", mod_spec)\n",
            "/usr/lib/python3.6/runpy.py:193: UserWarning: [W008] Evaluating Doc.similarity based on empty vectors.\n",
            "  \"__main__\", mod_spec)\n",
            "/usr/lib/python3.6/runpy.py:193: UserWarning: [W008] Evaluating Doc.similarity based on empty vectors.\n",
            "  \"__main__\", mod_spec)\n",
            "/usr/lib/python3.6/runpy.py:193: UserWarning: [W008] Evaluating Doc.similarity based on empty vectors.\n",
            "  \"__main__\", mod_spec)\n",
            "/usr/lib/python3.6/runpy.py:193: UserWarning: [W008] Evaluating Doc.similarity based on empty vectors.\n",
            "  \"__main__\", mod_spec)\n",
            "/usr/lib/python3.6/runpy.py:193: UserWarning: [W008] Evaluating Doc.similarity based on empty vectors.\n",
            "  \"__main__\", mod_spec)\n",
            "/usr/lib/python3.6/runpy.py:193: UserWarning: [W008] Evaluating Doc.similarity based on empty vectors.\n",
            "  \"__main__\", mod_spec)\n",
            "/usr/lib/python3.6/runpy.py:193: UserWarning: [W008] Evaluating Doc.similarity based on empty vectors.\n",
            "  \"__main__\", mod_spec)\n",
            "/usr/lib/python3.6/runpy.py:193: UserWarning: [W008] Evaluating Doc.similarity based on empty vectors.\n",
            "  \"__main__\", mod_spec)\n",
            "/usr/lib/python3.6/runpy.py:193: UserWarning: [W008] Evaluating Doc.similarity based on empty vectors.\n",
            "  \"__main__\", mod_spec)\n",
            "/usr/lib/python3.6/runpy.py:193: UserWarning: [W008] Evaluating Doc.similarity based on empty vectors.\n",
            "  \"__main__\", mod_spec)\n",
            "/usr/lib/python3.6/runpy.py:193: UserWarning: [W008] Evaluating Doc.similarity based on empty vectors.\n",
            "  \"__main__\", mod_spec)\n",
            "/usr/lib/python3.6/runpy.py:193: UserWarning: [W008] Evaluating Doc.similarity based on empty vectors.\n",
            "  \"__main__\", mod_spec)\n",
            "/usr/lib/python3.6/runpy.py:193: UserWarning: [W008] Evaluating Doc.similarity based on empty vectors.\n",
            "  \"__main__\", mod_spec)\n",
            "/usr/lib/python3.6/runpy.py:193: UserWarning: [W008] Evaluating Doc.similarity based on empty vectors.\n",
            "  \"__main__\", mod_spec)\n",
            "/usr/lib/python3.6/runpy.py:193: UserWarning: [W008] Evaluating Doc.similarity based on empty vectors.\n",
            "  \"__main__\", mod_spec)\n",
            "/usr/lib/python3.6/runpy.py:193: UserWarning: [W008] Evaluating Doc.similarity based on empty vectors.\n",
            "  \"__main__\", mod_spec)\n",
            "/usr/lib/python3.6/runpy.py:193: UserWarning: [W008] Evaluating Doc.similarity based on empty vectors.\n",
            "  \"__main__\", mod_spec)\n",
            "/usr/lib/python3.6/runpy.py:193: UserWarning: [W008] Evaluating Doc.similarity based on empty vectors.\n",
            "  \"__main__\", mod_spec)\n",
            "/usr/lib/python3.6/runpy.py:193: UserWarning: [W008] Evaluating Doc.similarity based on empty vectors.\n",
            "  \"__main__\", mod_spec)\n",
            "/usr/lib/python3.6/runpy.py:193: UserWarning: [W008] Evaluating Doc.similarity based on empty vectors.\n",
            "  \"__main__\", mod_spec)\n",
            "/usr/lib/python3.6/runpy.py:193: UserWarning: [W008] Evaluating Doc.similarity based on empty vectors.\n",
            "  \"__main__\", mod_spec)\n",
            "/usr/lib/python3.6/runpy.py:193: UserWarning: [W008] Evaluating Doc.similarity based on empty vectors.\n",
            "  \"__main__\", mod_spec)\n",
            "/usr/lib/python3.6/runpy.py:193: UserWarning: [W008] Evaluating Doc.similarity based on empty vectors.\n",
            "  \"__main__\", mod_spec)\n",
            "/usr/lib/python3.6/runpy.py:193: UserWarning: [W008] Evaluating Doc.similarity based on empty vectors.\n",
            "  \"__main__\", mod_spec)\n",
            "/usr/lib/python3.6/runpy.py:193: UserWarning: [W008] Evaluating Doc.similarity based on empty vectors.\n",
            "  \"__main__\", mod_spec)\n",
            "/usr/lib/python3.6/runpy.py:193: UserWarning: [W008] Evaluating Doc.similarity based on empty vectors.\n",
            "  \"__main__\", mod_spec)\n",
            "/usr/lib/python3.6/runpy.py:193: UserWarning: [W008] Evaluating Doc.similarity based on empty vectors.\n",
            "  \"__main__\", mod_spec)\n",
            "/usr/lib/python3.6/runpy.py:193: UserWarning: [W008] Evaluating Doc.similarity based on empty vectors.\n",
            "  \"__main__\", mod_spec)\n",
            "/usr/lib/python3.6/runpy.py:193: UserWarning: [W008] Evaluating Doc.similarity based on empty vectors.\n",
            "  \"__main__\", mod_spec)\n",
            "/usr/lib/python3.6/runpy.py:193: UserWarning: [W008] Evaluating Doc.similarity based on empty vectors.\n",
            "  \"__main__\", mod_spec)\n",
            "/usr/lib/python3.6/runpy.py:193: UserWarning: [W008] Evaluating Doc.similarity based on empty vectors.\n",
            "  \"__main__\", mod_spec)\n",
            "/usr/lib/python3.6/runpy.py:193: UserWarning: [W008] Evaluating Doc.similarity based on empty vectors.\n",
            "  \"__main__\", mod_spec)\n",
            "/usr/lib/python3.6/runpy.py:193: UserWarning: [W008] Evaluating Doc.similarity based on empty vectors.\n",
            "  \"__main__\", mod_spec)\n",
            "/usr/lib/python3.6/runpy.py:193: UserWarning: [W008] Evaluating Doc.similarity based on empty vectors.\n",
            "  \"__main__\", mod_spec)\n",
            "/usr/lib/python3.6/runpy.py:193: UserWarning: [W008] Evaluating Doc.similarity based on empty vectors.\n",
            "  \"__main__\", mod_spec)\n",
            "/usr/lib/python3.6/runpy.py:193: UserWarning: [W008] Evaluating Doc.similarity based on empty vectors.\n",
            "  \"__main__\", mod_spec)\n",
            "/usr/lib/python3.6/runpy.py:193: UserWarning: [W008] Evaluating Doc.similarity based on empty vectors.\n",
            "  \"__main__\", mod_spec)\n",
            "/usr/lib/python3.6/runpy.py:193: UserWarning: [W008] Evaluating Doc.similarity based on empty vectors.\n",
            "  \"__main__\", mod_spec)\n",
            "/usr/lib/python3.6/runpy.py:193: UserWarning: [W008] Evaluating Doc.similarity based on empty vectors.\n",
            "  \"__main__\", mod_spec)\n",
            "/usr/lib/python3.6/runpy.py:193: UserWarning: [W008] Evaluating Doc.similarity based on empty vectors.\n",
            "  \"__main__\", mod_spec)\n",
            "/usr/lib/python3.6/runpy.py:193: UserWarning: [W008] Evaluating Doc.similarity based on empty vectors.\n",
            "  \"__main__\", mod_spec)\n",
            "/usr/lib/python3.6/runpy.py:193: UserWarning: [W008] Evaluating Doc.similarity based on empty vectors.\n",
            "  \"__main__\", mod_spec)\n",
            "/usr/lib/python3.6/runpy.py:193: UserWarning: [W008] Evaluating Doc.similarity based on empty vectors.\n",
            "  \"__main__\", mod_spec)\n",
            "/usr/lib/python3.6/runpy.py:193: UserWarning: [W008] Evaluating Doc.similarity based on empty vectors.\n",
            "  \"__main__\", mod_spec)\n",
            "/usr/lib/python3.6/runpy.py:193: UserWarning: [W008] Evaluating Doc.similarity based on empty vectors.\n",
            "  \"__main__\", mod_spec)\n",
            "/usr/lib/python3.6/runpy.py:193: UserWarning: [W008] Evaluating Doc.similarity based on empty vectors.\n",
            "  \"__main__\", mod_spec)\n",
            "/usr/lib/python3.6/runpy.py:193: UserWarning: [W008] Evaluating Doc.similarity based on empty vectors.\n",
            "  \"__main__\", mod_spec)\n",
            "/usr/lib/python3.6/runpy.py:193: UserWarning: [W008] Evaluating Doc.similarity based on empty vectors.\n",
            "  \"__main__\", mod_spec)\n",
            "/usr/lib/python3.6/runpy.py:193: UserWarning: [W008] Evaluating Doc.similarity based on empty vectors.\n",
            "  \"__main__\", mod_spec)\n",
            "/usr/lib/python3.6/runpy.py:193: UserWarning: [W008] Evaluating Doc.similarity based on empty vectors.\n",
            "  \"__main__\", mod_spec)\n",
            "/usr/lib/python3.6/runpy.py:193: UserWarning: [W008] Evaluating Doc.similarity based on empty vectors.\n",
            "  \"__main__\", mod_spec)\n",
            "/usr/lib/python3.6/runpy.py:193: UserWarning: [W008] Evaluating Doc.similarity based on empty vectors.\n",
            "  \"__main__\", mod_spec)\n",
            "/usr/lib/python3.6/runpy.py:193: UserWarning: [W008] Evaluating Doc.similarity based on empty vectors.\n",
            "  \"__main__\", mod_spec)\n",
            "/usr/lib/python3.6/runpy.py:193: UserWarning: [W008] Evaluating Doc.similarity based on empty vectors.\n",
            "  \"__main__\", mod_spec)\n"
          ],
          "name": "stderr"
        }
      ]
    },
    {
      "cell_type": "markdown",
      "metadata": {
        "id": "cdGNvNyY4LN2"
      },
      "source": [
        "The above code is used to calculate the similarity scores between the topics and subjects of the candidate sentences. 340 sentences were not identified to have sentences"
      ]
    },
    {
      "cell_type": "code",
      "metadata": {
        "colab": {
          "base_uri": "https://localhost:8080/"
        },
        "id": "npwXqMXI2Csv",
        "outputId": "894ac7df-f81c-4f15-b589-f48229b6aa6c"
      },
      "source": [
        "count_blanks"
      ],
      "execution_count": 112,
      "outputs": [
        {
          "output_type": "execute_result",
          "data": {
            "text/plain": [
              "340"
            ]
          },
          "metadata": {
            "tags": []
          },
          "execution_count": 112
        }
      ]
    },
    {
      "cell_type": "code",
      "metadata": {
        "colab": {
          "base_uri": "https://localhost:8080/",
          "height": 669
        },
        "id": "lCGjfK8Uv7GM",
        "outputId": "957d89b8-0ff3-457f-9dd5-9f80cc589b72"
      },
      "source": [
        "df2['Similarity Scores'] = similarity_scores\r\n",
        "df2.head()"
      ],
      "execution_count": 113,
      "outputs": [
        {
          "output_type": "execute_result",
          "data": {
            "text/html": [
              "<div>\n",
              "<style scoped>\n",
              "    .dataframe tbody tr th:only-of-type {\n",
              "        vertical-align: middle;\n",
              "    }\n",
              "\n",
              "    .dataframe tbody tr th {\n",
              "        vertical-align: top;\n",
              "    }\n",
              "\n",
              "    .dataframe thead th {\n",
              "        text-align: right;\n",
              "    }\n",
              "</style>\n",
              "<table border=\"1\" class=\"dataframe\">\n",
              "  <thead>\n",
              "    <tr style=\"text-align: right;\">\n",
              "      <th></th>\n",
              "      <th>topic</th>\n",
              "      <th>the concept of the topic</th>\n",
              "      <th>candidate</th>\n",
              "      <th>candidate masked</th>\n",
              "      <th>label</th>\n",
              "      <th>wikipedia article name</th>\n",
              "      <th>wikipedia url</th>\n",
              "      <th>Positive score</th>\n",
              "      <th>Negative score</th>\n",
              "      <th>Neutral score</th>\n",
              "      <th>Candidate Subjects</th>\n",
              "      <th>Similarity Scores</th>\n",
              "    </tr>\n",
              "  </thead>\n",
              "  <tbody>\n",
              "    <tr>\n",
              "      <th>0</th>\n",
              "      <td>We should limit executive compensation</td>\n",
              "      <td>executive compensation</td>\n",
              "      <td>A say on pay - a non-binding vote of the gener...</td>\n",
              "      <td>A say on pay - a non-binding vote of the gener...</td>\n",
              "      <td>0</td>\n",
              "      <td>Executive pay</td>\n",
              "      <td>https://en.wikipedia.org/wiki/Executive_pay</td>\n",
              "      <td>0.132</td>\n",
              "      <td>0.123</td>\n",
              "      <td>0.746</td>\n",
              "      <td>[]</td>\n",
              "      <td>0.000000</td>\n",
              "    </tr>\n",
              "    <tr>\n",
              "      <th>1</th>\n",
              "      <td>We should limit executive compensation</td>\n",
              "      <td>executive compensation</td>\n",
              "      <td>A February 2009 report, published by the Insti...</td>\n",
              "      <td>A February 2009 report, published by the Insti...</td>\n",
              "      <td>1</td>\n",
              "      <td>Executive pay</td>\n",
              "      <td>https://en.wikipedia.org/wiki/Executive_pay</td>\n",
              "      <td>0.000</td>\n",
              "      <td>0.000</td>\n",
              "      <td>1.000</td>\n",
              "      <td>[report, compensation, taxpayers]</td>\n",
              "      <td>0.742307</td>\n",
              "    </tr>\n",
              "    <tr>\n",
              "      <th>2</th>\n",
              "      <td>We should limit executive compensation</td>\n",
              "      <td>executive compensation</td>\n",
              "      <td>The Financial Crisis has had a relatively smal...</td>\n",
              "      <td>The Financial Crisis has had a relatively smal...</td>\n",
              "      <td>0</td>\n",
              "      <td>Executive pay</td>\n",
              "      <td>https://en.wikipedia.org/wiki/Executive_pay</td>\n",
              "      <td>0.000</td>\n",
              "      <td>0.355</td>\n",
              "      <td>0.645</td>\n",
              "      <td>[Crisis]</td>\n",
              "      <td>0.433720</td>\n",
              "    </tr>\n",
              "    <tr>\n",
              "      <th>3</th>\n",
              "      <td>We should limit executive compensation</td>\n",
              "      <td>executive compensation</td>\n",
              "      <td>1990-1992 Lineberger Cancer Center, SPA person...</td>\n",
              "      <td>1990-1992 Lineberger Cancer Center, SPA person...</td>\n",
              "      <td>0</td>\n",
              "      <td>Edison Liu</td>\n",
              "      <td>https://en.wikipedia.org/wiki/Edison_Liu</td>\n",
              "      <td>0.000</td>\n",
              "      <td>0.386</td>\n",
              "      <td>0.614</td>\n",
              "      <td>[]</td>\n",
              "      <td>0.000000</td>\n",
              "    </tr>\n",
              "    <tr>\n",
              "      <th>4</th>\n",
              "      <td>We should limit executive compensation</td>\n",
              "      <td>executive compensation</td>\n",
              "      <td>Countering the public uproar over excessive ex...</td>\n",
              "      <td>Countering the public uproar over excessive TO...</td>\n",
              "      <td>0</td>\n",
              "      <td>Jack Welch</td>\n",
              "      <td>https://en.wikipedia.org/wiki/Jack_Welch</td>\n",
              "      <td>0.072</td>\n",
              "      <td>0.031</td>\n",
              "      <td>0.897</td>\n",
              "      <td>[Welch, compensation]</td>\n",
              "      <td>0.491948</td>\n",
              "    </tr>\n",
              "  </tbody>\n",
              "</table>\n",
              "</div>"
            ],
            "text/plain": [
              "                                    topic  ... Similarity Scores\n",
              "0  We should limit executive compensation  ...          0.000000\n",
              "1  We should limit executive compensation  ...          0.742307\n",
              "2  We should limit executive compensation  ...          0.433720\n",
              "3  We should limit executive compensation  ...          0.000000\n",
              "4  We should limit executive compensation  ...          0.491948\n",
              "\n",
              "[5 rows x 12 columns]"
            ]
          },
          "metadata": {
            "tags": []
          },
          "execution_count": 113
        }
      ]
    }
  ]
}